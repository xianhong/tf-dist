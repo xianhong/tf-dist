{
 "cells": [
  {
   "cell_type": "code",
   "execution_count": 1,
   "metadata": {
    "colab": {
     "base_uri": "https://localhost:8080/",
     "height": 754
    },
    "colab_type": "code",
    "id": "JOESAWDzOwtv",
    "outputId": "30f51046-5c75-4451-ce93-2e14cf7dee2d"
   },
   "outputs": [
    {
     "name": "stdout",
     "output_type": "stream",
     "text": [
      "TensorFlow 2.x selected.\n",
      "Tensorflow version 2.1.0\n",
      "Running on TPU  ['10.69.149.66:8470']\n",
      "INFO:tensorflow:Initializing the TPU system: 10.69.149.66:8470\n"
     ]
    },
    {
     "name": "stderr",
     "output_type": "stream",
     "text": [
      "INFO:tensorflow:Initializing the TPU system: 10.69.149.66:8470\n"
     ]
    },
    {
     "name": "stdout",
     "output_type": "stream",
     "text": [
      "INFO:tensorflow:Clearing out eager caches\n"
     ]
    },
    {
     "name": "stderr",
     "output_type": "stream",
     "text": [
      "INFO:tensorflow:Clearing out eager caches\n"
     ]
    },
    {
     "name": "stdout",
     "output_type": "stream",
     "text": [
      "INFO:tensorflow:Finished initializing TPU system.\n"
     ]
    },
    {
     "name": "stderr",
     "output_type": "stream",
     "text": [
      "INFO:tensorflow:Finished initializing TPU system.\n"
     ]
    },
    {
     "name": "stdout",
     "output_type": "stream",
     "text": [
      "INFO:tensorflow:Found TPU system:\n"
     ]
    },
    {
     "name": "stderr",
     "output_type": "stream",
     "text": [
      "INFO:tensorflow:Found TPU system:\n"
     ]
    },
    {
     "name": "stdout",
     "output_type": "stream",
     "text": [
      "INFO:tensorflow:*** Num TPU Cores: 8\n"
     ]
    },
    {
     "name": "stderr",
     "output_type": "stream",
     "text": [
      "INFO:tensorflow:*** Num TPU Cores: 8\n"
     ]
    },
    {
     "name": "stdout",
     "output_type": "stream",
     "text": [
      "INFO:tensorflow:*** Num TPU Workers: 1\n"
     ]
    },
    {
     "name": "stderr",
     "output_type": "stream",
     "text": [
      "INFO:tensorflow:*** Num TPU Workers: 1\n"
     ]
    },
    {
     "name": "stdout",
     "output_type": "stream",
     "text": [
      "INFO:tensorflow:*** Num TPU Cores Per Worker: 8\n"
     ]
    },
    {
     "name": "stderr",
     "output_type": "stream",
     "text": [
      "INFO:tensorflow:*** Num TPU Cores Per Worker: 8\n"
     ]
    },
    {
     "name": "stdout",
     "output_type": "stream",
     "text": [
      "INFO:tensorflow:*** Available Device: _DeviceAttributes(/job:localhost/replica:0/task:0/device:CPU:0, CPU, 0, 0)\n"
     ]
    },
    {
     "name": "stderr",
     "output_type": "stream",
     "text": [
      "INFO:tensorflow:*** Available Device: _DeviceAttributes(/job:localhost/replica:0/task:0/device:CPU:0, CPU, 0, 0)\n"
     ]
    },
    {
     "name": "stdout",
     "output_type": "stream",
     "text": [
      "INFO:tensorflow:*** Available Device: _DeviceAttributes(/job:localhost/replica:0/task:0/device:XLA_CPU:0, XLA_CPU, 0, 0)\n"
     ]
    },
    {
     "name": "stderr",
     "output_type": "stream",
     "text": [
      "INFO:tensorflow:*** Available Device: _DeviceAttributes(/job:localhost/replica:0/task:0/device:XLA_CPU:0, XLA_CPU, 0, 0)\n"
     ]
    },
    {
     "name": "stdout",
     "output_type": "stream",
     "text": [
      "INFO:tensorflow:*** Available Device: _DeviceAttributes(/job:worker/replica:0/task:0/device:CPU:0, CPU, 0, 0)\n"
     ]
    },
    {
     "name": "stderr",
     "output_type": "stream",
     "text": [
      "INFO:tensorflow:*** Available Device: _DeviceAttributes(/job:worker/replica:0/task:0/device:CPU:0, CPU, 0, 0)\n"
     ]
    },
    {
     "name": "stdout",
     "output_type": "stream",
     "text": [
      "INFO:tensorflow:*** Available Device: _DeviceAttributes(/job:worker/replica:0/task:0/device:TPU:0, TPU, 0, 0)\n"
     ]
    },
    {
     "name": "stderr",
     "output_type": "stream",
     "text": [
      "INFO:tensorflow:*** Available Device: _DeviceAttributes(/job:worker/replica:0/task:0/device:TPU:0, TPU, 0, 0)\n"
     ]
    },
    {
     "name": "stdout",
     "output_type": "stream",
     "text": [
      "INFO:tensorflow:*** Available Device: _DeviceAttributes(/job:worker/replica:0/task:0/device:TPU:1, TPU, 0, 0)\n"
     ]
    },
    {
     "name": "stderr",
     "output_type": "stream",
     "text": [
      "INFO:tensorflow:*** Available Device: _DeviceAttributes(/job:worker/replica:0/task:0/device:TPU:1, TPU, 0, 0)\n"
     ]
    },
    {
     "name": "stdout",
     "output_type": "stream",
     "text": [
      "INFO:tensorflow:*** Available Device: _DeviceAttributes(/job:worker/replica:0/task:0/device:TPU:2, TPU, 0, 0)\n"
     ]
    },
    {
     "name": "stderr",
     "output_type": "stream",
     "text": [
      "INFO:tensorflow:*** Available Device: _DeviceAttributes(/job:worker/replica:0/task:0/device:TPU:2, TPU, 0, 0)\n"
     ]
    },
    {
     "name": "stdout",
     "output_type": "stream",
     "text": [
      "INFO:tensorflow:*** Available Device: _DeviceAttributes(/job:worker/replica:0/task:0/device:TPU:3, TPU, 0, 0)\n"
     ]
    },
    {
     "name": "stderr",
     "output_type": "stream",
     "text": [
      "INFO:tensorflow:*** Available Device: _DeviceAttributes(/job:worker/replica:0/task:0/device:TPU:3, TPU, 0, 0)\n"
     ]
    },
    {
     "name": "stdout",
     "output_type": "stream",
     "text": [
      "INFO:tensorflow:*** Available Device: _DeviceAttributes(/job:worker/replica:0/task:0/device:TPU:4, TPU, 0, 0)\n"
     ]
    },
    {
     "name": "stderr",
     "output_type": "stream",
     "text": [
      "INFO:tensorflow:*** Available Device: _DeviceAttributes(/job:worker/replica:0/task:0/device:TPU:4, TPU, 0, 0)\n"
     ]
    },
    {
     "name": "stdout",
     "output_type": "stream",
     "text": [
      "INFO:tensorflow:*** Available Device: _DeviceAttributes(/job:worker/replica:0/task:0/device:TPU:5, TPU, 0, 0)\n"
     ]
    },
    {
     "name": "stderr",
     "output_type": "stream",
     "text": [
      "INFO:tensorflow:*** Available Device: _DeviceAttributes(/job:worker/replica:0/task:0/device:TPU:5, TPU, 0, 0)\n"
     ]
    },
    {
     "name": "stdout",
     "output_type": "stream",
     "text": [
      "INFO:tensorflow:*** Available Device: _DeviceAttributes(/job:worker/replica:0/task:0/device:TPU:6, TPU, 0, 0)\n"
     ]
    },
    {
     "name": "stderr",
     "output_type": "stream",
     "text": [
      "INFO:tensorflow:*** Available Device: _DeviceAttributes(/job:worker/replica:0/task:0/device:TPU:6, TPU, 0, 0)\n"
     ]
    },
    {
     "name": "stdout",
     "output_type": "stream",
     "text": [
      "INFO:tensorflow:*** Available Device: _DeviceAttributes(/job:worker/replica:0/task:0/device:TPU:7, TPU, 0, 0)\n"
     ]
    },
    {
     "name": "stderr",
     "output_type": "stream",
     "text": [
      "INFO:tensorflow:*** Available Device: _DeviceAttributes(/job:worker/replica:0/task:0/device:TPU:7, TPU, 0, 0)\n"
     ]
    },
    {
     "name": "stdout",
     "output_type": "stream",
     "text": [
      "INFO:tensorflow:*** Available Device: _DeviceAttributes(/job:worker/replica:0/task:0/device:TPU_SYSTEM:0, TPU_SYSTEM, 0, 0)\n"
     ]
    },
    {
     "name": "stderr",
     "output_type": "stream",
     "text": [
      "INFO:tensorflow:*** Available Device: _DeviceAttributes(/job:worker/replica:0/task:0/device:TPU_SYSTEM:0, TPU_SYSTEM, 0, 0)\n"
     ]
    },
    {
     "name": "stdout",
     "output_type": "stream",
     "text": [
      "INFO:tensorflow:*** Available Device: _DeviceAttributes(/job:worker/replica:0/task:0/device:XLA_CPU:0, XLA_CPU, 0, 0)\n"
     ]
    },
    {
     "name": "stderr",
     "output_type": "stream",
     "text": [
      "INFO:tensorflow:*** Available Device: _DeviceAttributes(/job:worker/replica:0/task:0/device:XLA_CPU:0, XLA_CPU, 0, 0)\n"
     ]
    }
   ],
   "source": [
    "%tensorflow_version 2.x\n",
    "import tensorflow as tf\n",
    "print(\"Tensorflow version \" + tf.__version__)\n",
    "\n",
    "try:\n",
    "  tpu = tf.distribute.cluster_resolver.TPUClusterResolver()  # TPU detection\n",
    "  print('Running on TPU ', tpu.cluster_spec().as_dict()['worker'])\n",
    "except ValueError:\n",
    "  raise BaseException('ERROR: Not connected to a TPU runtime; please see the previous cell in this notebook for instructions!')\n",
    "\n",
    "tf.config.experimental_connect_to_cluster(tpu)\n",
    "tf.tpu.experimental.initialize_tpu_system(tpu)\n",
    "tpu_strategy = tf.distribute.experimental.TPUStrategy(tpu)\n",
    "%matplotlib inline\n",
    "import numpy as np\n",
    "import matplotlib.pyplot as plt\n",
    "import tensorflow.keras as keras\n",
    "import tensorflow.keras.layers as layers\n",
    "import tensorflow_datasets as tfds\n"
   ]
  },
  {
   "cell_type": "code",
   "execution_count": 0,
   "metadata": {
    "colab": {},
    "colab_type": "code",
    "id": "pnz29C3fAMyH"
   },
   "outputs": [],
   "source": [
    "def get_dataset(batch_size=200):\n",
    "  datasets, info = tfds.load(name='mnist', with_info=True, as_supervised=True,\n",
    "                             try_gcs=True)\n",
    "  mnist_train, mnist_test = datasets['train'], datasets['test']\n",
    "\n",
    "  def scale(image,label):\n",
    "    image = tf.cast(image, tf.float32)\n",
    "    image /= 255.0\n",
    "\n",
    "    return image, image\n",
    "\n",
    "  train_dataset = mnist_train.map(scale).shuffle(10000).batch(batch_size,drop_remainder=True)\n",
    "  test_dataset = mnist_test.map(scale).batch(batch_size,drop_remainder=True)\n",
    "\n",
    "  return train_dataset, test_dataset\n",
    "train_dataset,test_dataset = get_dataset(128*8)"
   ]
  },
  {
   "cell_type": "code",
   "execution_count": 3,
   "metadata": {
    "colab": {
     "base_uri": "https://localhost:8080/",
     "height": 1000
    },
    "colab_type": "code",
    "id": "s92glFSTje3h",
    "outputId": "0e5e65c3-90d5-4e06-fccb-c74b96cfca1a"
   },
   "outputs": [
    {
     "name": "stdout",
     "output_type": "stream",
     "text": [
      "Model: \"sequential\"\n",
      "_________________________________________________________________\n",
      "Layer (type)                 Output Shape              Param #   \n",
      "=================================================================\n",
      "conv2d (Conv2D)              (None, 26, 26, 16)        160       \n",
      "_________________________________________________________________\n",
      "conv2d_1 (Conv2D)            (None, 24, 24, 32)        4640      \n",
      "_________________________________________________________________\n",
      "max_pooling2d (MaxPooling2D) (None, 8, 8, 32)          0         \n",
      "_________________________________________________________________\n",
      "conv2d_2 (Conv2D)            (None, 6, 6, 32)          9248      \n",
      "_________________________________________________________________\n",
      "conv2d_3 (Conv2D)            (None, 4, 4, 16)          4624      \n",
      "_________________________________________________________________\n",
      "global_max_pooling2d (Global (None, 16)                0         \n",
      "_________________________________________________________________\n",
      "reshape (Reshape)            (None, 4, 4, 1)           0         \n",
      "_________________________________________________________________\n",
      "conv2d_transpose (Conv2DTran (None, 6, 6, 16)          160       \n",
      "_________________________________________________________________\n",
      "conv2d_transpose_1 (Conv2DTr (None, 8, 8, 32)          4640      \n",
      "_________________________________________________________________\n",
      "up_sampling2d (UpSampling2D) (None, 24, 24, 32)        0         \n",
      "_________________________________________________________________\n",
      "conv2d_transpose_2 (Conv2DTr (None, 26, 26, 16)        4624      \n",
      "_________________________________________________________________\n",
      "conv2d_transpose_3 (Conv2DTr (None, 28, 28, 1)         145       \n",
      "=================================================================\n",
      "Total params: 28,241\n",
      "Trainable params: 28,241\n",
      "Non-trainable params: 0\n",
      "_________________________________________________________________\n",
      "Epoch 1/45\n",
      "58/58 [==============================] - 8s 135ms/step - loss: 0.0706 - mean_squared_error: 0.0706 - val_loss: 0.0633 - val_mean_squared_error: 0.0633\n",
      "Epoch 2/45\n",
      "58/58 [==============================] - 2s 31ms/step - loss: 0.0572 - mean_squared_error: 0.0572 - val_loss: 0.0502 - val_mean_squared_error: 0.0502\n",
      "Epoch 3/45\n",
      "58/58 [==============================] - 2s 32ms/step - loss: 0.0470 - mean_squared_error: 0.0470 - val_loss: 0.0437 - val_mean_squared_error: 0.0437\n",
      "Epoch 4/45\n",
      "58/58 [==============================] - 2s 33ms/step - loss: 0.0432 - mean_squared_error: 0.0432 - val_loss: 0.0409 - val_mean_squared_error: 0.0409\n",
      "Epoch 5/45\n",
      "58/58 [==============================] - 2s 33ms/step - loss: 0.0401 - mean_squared_error: 0.0401 - val_loss: 0.0387 - val_mean_squared_error: 0.0387\n",
      "Epoch 6/45\n",
      "58/58 [==============================] - 2s 32ms/step - loss: 0.0382 - mean_squared_error: 0.0382 - val_loss: 0.0372 - val_mean_squared_error: 0.0372\n",
      "Epoch 7/45\n",
      "58/58 [==============================] - 2s 34ms/step - loss: 0.0377 - mean_squared_error: 0.0377 - val_loss: 0.0361 - val_mean_squared_error: 0.0361\n",
      "Epoch 8/45\n",
      "58/58 [==============================] - 2s 31ms/step - loss: 0.0356 - mean_squared_error: 0.0356 - val_loss: 0.0345 - val_mean_squared_error: 0.0345\n",
      "Epoch 9/45\n",
      "58/58 [==============================] - 2s 32ms/step - loss: 0.0345 - mean_squared_error: 0.0345 - val_loss: 0.0338 - val_mean_squared_error: 0.0338\n",
      "Epoch 10/45\n",
      "58/58 [==============================] - 2s 30ms/step - loss: 0.0338 - mean_squared_error: 0.0338 - val_loss: 0.0328 - val_mean_squared_error: 0.0328\n",
      "Epoch 11/45\n",
      "58/58 [==============================] - 2s 34ms/step - loss: 0.0330 - mean_squared_error: 0.0330 - val_loss: 0.0322 - val_mean_squared_error: 0.0322\n",
      "Epoch 12/45\n",
      "58/58 [==============================] - 2s 32ms/step - loss: 0.0325 - mean_squared_error: 0.0325 - val_loss: 0.0315 - val_mean_squared_error: 0.0315\n",
      "Epoch 13/45\n",
      "58/58 [==============================] - 2s 30ms/step - loss: 0.0318 - mean_squared_error: 0.0318 - val_loss: 0.0309 - val_mean_squared_error: 0.0309\n",
      "Epoch 14/45\n",
      "58/58 [==============================] - 2s 32ms/step - loss: 0.0313 - mean_squared_error: 0.0313 - val_loss: 0.0303 - val_mean_squared_error: 0.0303\n",
      "Epoch 15/45\n",
      "58/58 [==============================] - 2s 31ms/step - loss: 0.0307 - mean_squared_error: 0.0307 - val_loss: 0.0299 - val_mean_squared_error: 0.0299\n",
      "Epoch 16/45\n",
      "58/58 [==============================] - 2s 32ms/step - loss: 0.0302 - mean_squared_error: 0.0302 - val_loss: 0.0305 - val_mean_squared_error: 0.0305\n",
      "Epoch 17/45\n",
      "58/58 [==============================] - 2s 33ms/step - loss: 0.0297 - mean_squared_error: 0.0297 - val_loss: 0.0288 - val_mean_squared_error: 0.0288\n",
      "Epoch 18/45\n",
      "58/58 [==============================] - 2s 31ms/step - loss: 0.0294 - mean_squared_error: 0.0294 - val_loss: 0.0288 - val_mean_squared_error: 0.0288\n",
      "Epoch 19/45\n",
      "58/58 [==============================] - 2s 32ms/step - loss: 0.0290 - mean_squared_error: 0.0290 - val_loss: 0.0282 - val_mean_squared_error: 0.0282\n",
      "Epoch 20/45\n",
      "58/58 [==============================] - 2s 33ms/step - loss: 0.0287 - mean_squared_error: 0.0287 - val_loss: 0.0280 - val_mean_squared_error: 0.0280\n",
      "Epoch 21/45\n",
      "58/58 [==============================] - 2s 33ms/step - loss: 0.0284 - mean_squared_error: 0.0284 - val_loss: 0.0281 - val_mean_squared_error: 0.0281\n",
      "Epoch 22/45\n",
      "58/58 [==============================] - 2s 31ms/step - loss: 0.0281 - mean_squared_error: 0.0281 - val_loss: 0.0278 - val_mean_squared_error: 0.0278\n",
      "Epoch 23/45\n",
      "58/58 [==============================] - 2s 32ms/step - loss: 0.0280 - mean_squared_error: 0.0280 - val_loss: 0.0273 - val_mean_squared_error: 0.0273\n",
      "Epoch 24/45\n",
      "58/58 [==============================] - 2s 31ms/step - loss: 0.0275 - mean_squared_error: 0.0275 - val_loss: 0.0275 - val_mean_squared_error: 0.0275\n",
      "Epoch 25/45\n",
      "58/58 [==============================] - 2s 32ms/step - loss: 0.0272 - mean_squared_error: 0.0272 - val_loss: 0.0281 - val_mean_squared_error: 0.0281\n",
      "Epoch 26/45\n",
      "58/58 [==============================] - 2s 32ms/step - loss: 0.0276 - mean_squared_error: 0.0276 - val_loss: 0.0265 - val_mean_squared_error: 0.0265\n",
      "Epoch 27/45\n",
      "58/58 [==============================] - 2s 33ms/step - loss: 0.0268 - mean_squared_error: 0.0268 - val_loss: 0.0263 - val_mean_squared_error: 0.0263\n",
      "Epoch 28/45\n",
      "58/58 [==============================] - 2s 33ms/step - loss: 0.0267 - mean_squared_error: 0.0267 - val_loss: 0.0261 - val_mean_squared_error: 0.0261\n",
      "Epoch 29/45\n",
      "58/58 [==============================] - 2s 30ms/step - loss: 0.0265 - mean_squared_error: 0.0265 - val_loss: 0.0259 - val_mean_squared_error: 0.0259\n",
      "Epoch 30/45\n",
      "58/58 [==============================] - 2s 32ms/step - loss: 0.0265 - mean_squared_error: 0.0265 - val_loss: 0.0257 - val_mean_squared_error: 0.0257\n",
      "Epoch 31/45\n",
      "58/58 [==============================] - 2s 36ms/step - loss: 0.0261 - mean_squared_error: 0.0261 - val_loss: 0.0254 - val_mean_squared_error: 0.0254\n",
      "Epoch 32/45\n",
      "58/58 [==============================] - 2s 31ms/step - loss: 0.0259 - mean_squared_error: 0.0259 - val_loss: 0.0256 - val_mean_squared_error: 0.0256\n",
      "Epoch 33/45\n",
      "58/58 [==============================] - 2s 33ms/step - loss: 0.0257 - mean_squared_error: 0.0257 - val_loss: 0.0254 - val_mean_squared_error: 0.0254\n",
      "Epoch 34/45\n",
      "58/58 [==============================] - 2s 32ms/step - loss: 0.0255 - mean_squared_error: 0.0255 - val_loss: 0.0256 - val_mean_squared_error: 0.0256\n",
      "Epoch 35/45\n",
      "58/58 [==============================] - 2s 32ms/step - loss: 0.0255 - mean_squared_error: 0.0255 - val_loss: 0.0255 - val_mean_squared_error: 0.0255\n",
      "Epoch 36/45\n",
      "58/58 [==============================] - 2s 31ms/step - loss: 0.0255 - mean_squared_error: 0.0255 - val_loss: 0.0249 - val_mean_squared_error: 0.0249\n",
      "Epoch 37/45\n",
      "58/58 [==============================] - 2s 31ms/step - loss: 0.0252 - mean_squared_error: 0.0252 - val_loss: 0.0246 - val_mean_squared_error: 0.0246\n",
      "Epoch 38/45\n",
      "58/58 [==============================] - 2s 31ms/step - loss: 0.0250 - mean_squared_error: 0.0250 - val_loss: 0.0246 - val_mean_squared_error: 0.0246\n",
      "Epoch 39/45\n",
      "58/58 [==============================] - 2s 32ms/step - loss: 0.0250 - mean_squared_error: 0.0250 - val_loss: 0.0255 - val_mean_squared_error: 0.0255\n",
      "Epoch 40/45\n",
      "58/58 [==============================] - 2s 32ms/step - loss: 0.0249 - mean_squared_error: 0.0249 - val_loss: 0.0243 - val_mean_squared_error: 0.0243\n",
      "Epoch 41/45\n",
      "58/58 [==============================] - 2s 31ms/step - loss: 0.0248 - mean_squared_error: 0.0248 - val_loss: 0.0259 - val_mean_squared_error: 0.0259\n",
      "Epoch 42/45\n",
      "58/58 [==============================] - 2s 31ms/step - loss: 0.0247 - mean_squared_error: 0.0247 - val_loss: 0.0246 - val_mean_squared_error: 0.0246\n",
      "Epoch 43/45\n",
      "58/58 [==============================] - 2s 30ms/step - loss: 0.0246 - mean_squared_error: 0.0246 - val_loss: 0.0240 - val_mean_squared_error: 0.0240\n",
      "Epoch 44/45\n",
      "58/58 [==============================] - 2s 31ms/step - loss: 0.0243 - mean_squared_error: 0.0243 - val_loss: 0.0238 - val_mean_squared_error: 0.0238\n",
      "Epoch 45/45\n",
      "58/58 [==============================] - 2s 32ms/step - loss: 0.0243 - mean_squared_error: 0.0243 - val_loss: 0.0245 - val_mean_squared_error: 0.0245\n"
     ]
    },
    {
     "data": {
      "text/plain": [
       "<tensorflow.python.keras.callbacks.History at 0x7f854844b860>"
      ]
     },
     "execution_count": 3,
     "metadata": {
      "tags": []
     },
     "output_type": "execute_result"
    }
   ],
   "source": [
    "with tpu_strategy.scope():\n",
    "    autoencoder = tf.keras.Sequential([layers.Conv2D(16, 3, activation='relu',input_shape=(28, 28, 1)),\n",
    "                                     layers.Conv2D(32, 3, activation='relu'),\n",
    "                                     layers.MaxPooling2D(3),\n",
    "                                     layers.Conv2D(32, 3, activation='relu'),\n",
    "                                     layers.Conv2D(16, 3, activation='relu'),\n",
    "                                     layers.GlobalMaxPooling2D(),\n",
    "                                     layers.Reshape((4, 4, 1)),\n",
    "                                     layers.Conv2DTranspose(16, 3, activation='relu'),\n",
    "                                     layers.Conv2DTranspose(32, 3, activation='relu'),\n",
    "                                     layers.UpSampling2D(3),\n",
    "                                     layers.Conv2DTranspose(16, 3, activation='relu'),\n",
    "                                     layers.Conv2DTranspose(1, 3, activation='relu')])\n",
    "    autoencoder.summary()\n",
    "    autoencoder.compile(optimizer='adam',\n",
    "              loss='mean_squared_error',\n",
    "              metrics=['mean_squared_error'])\n",
    "autoencoder.fit(train_dataset, epochs=45,validation_data=test_dataset)"
   ]
  },
  {
   "cell_type": "code",
   "execution_count": 4,
   "metadata": {
    "colab": {
     "base_uri": "https://localhost:8080/",
     "height": 34
    },
    "colab_type": "code",
    "id": "pmarPiZgG0i_",
    "outputId": "84592e04-2634-4d92-8bbb-01224d94ee15"
   },
   "outputs": [
    {
     "name": "stdout",
     "output_type": "stream",
     "text": [
      "(1000, 28, 28, 1)\n"
     ]
    }
   ],
   "source": [
    "def get_dataset2():\n",
    "  datasets, info = tfds.load(name='mnist', with_info=True, as_supervised=True,\n",
    "                             try_gcs=True)\n",
    "  mnist_train, mnist_test = datasets['train'], datasets['test']\n",
    "\n",
    "  def scale(image,label):\n",
    "    image = tf.cast(image, tf.float32)\n",
    "    image /= 255.0\n",
    "\n",
    "    return image\n",
    "\n",
    "  test_dataset = mnist_test.map(scale)\n",
    "\n",
    "  return test_dataset\n",
    "x_test = get_dataset2().batch(1000,drop_remainder=True).take(1)\n",
    "predictions = autoencoder.predict(x_test)\n",
    "print(predictions.shape)"
   ]
  },
  {
   "cell_type": "code",
   "execution_count": 5,
   "metadata": {
    "colab": {
     "base_uri": "https://localhost:8080/",
     "height": 34
    },
    "colab_type": "code",
    "id": "oeJMquqcKJFT",
    "outputId": "9e19d398-2132-409f-9b41-0b2dfffafa7c"
   },
   "outputs": [
    {
     "name": "stdout",
     "output_type": "stream",
     "text": [
      "(1000, 28, 28)\n"
     ]
    }
   ],
   "source": [
    "x_test= next(iter(x_test))\n",
    "x_test = x_test.numpy()\n",
    "print(predictions[:,:,:,0].shape)"
   ]
  },
  {
   "cell_type": "code",
   "execution_count": 11,
   "metadata": {
    "colab": {
     "base_uri": "https://localhost:8080/",
     "height": 140
    },
    "colab_type": "code",
    "id": "tunOHswXQOYr",
    "outputId": "5f76768b-2172-4ecf-de62-2700026c76e3"
   },
   "outputs": [
    {
     "data": {
      "image/png": "[encoded data removed]",
      "text/plain": [
       "<Figure size 1152x144 with 30 Axes>"
      ]
     },
     "metadata": {
      "tags": []
     },
     "output_type": "display_data"
    }
   ],
   "source": [
    "fig, axes1 = plt.subplots(2,15,figsize=(16,2))\n",
    "for k in range(15):\n",
    "    i = np.random.choice(range(len(x_test)))\n",
    "    for j in range(2):\n",
    "        axes1[j][k].set_axis_off()\n",
    "        if j==0 :\n",
    "            axes1[j][k].imshow(x_test[i,:,:,0], cmap='gray')\n",
    "        else:\n",
    "            axes1[j][k].imshow(predictions[i,:,:,0], cmap='gray')"
   ]
  }
 ],
 "metadata": {
  "accelerator": "TPU",
  "colab": {
   "collapsed_sections": [],
   "name": "autoencoder_tpu.ipynb",
   "provenance": []
  },
  "kernelspec": {
   "display_name": "Python 3",
   "language": "python",
   "name": "python3"
  },
  "language_info": {
   "codemirror_mode": {
    "name": "ipython",
    "version": 3
   },
   "file_extension": ".py",
   "mimetype": "text/x-python",
   "name": "python",
   "nbconvert_exporter": "python",
   "pygments_lexer": "ipython3",
   "version": "3.6.9"
  }
 },
 "nbformat": 4,
 "nbformat_minor": 1
}
